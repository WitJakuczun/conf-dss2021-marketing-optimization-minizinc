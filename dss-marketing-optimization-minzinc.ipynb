{
 "cells": [
  {
   "cell_type": "markdown",
   "metadata": {},
   "source": [
    "# Pierwsze użycie"
   ]
  },
  {
   "cell_type": "markdown",
   "metadata": {},
   "source": [
    "## Instalacja"
   ]
  },
  {
   "cell_type": "code",
   "execution_count": 17,
   "metadata": {},
   "outputs": [
    {
     "name": "stdout",
     "output_type": "stream",
     "text": [
      "iminizinc\n",
      "ipykernel\n",
      "minizinc\n",
      "nest_asyncio\n"
     ]
    }
   ],
   "source": [
    "!cat requirements.txt"
   ]
  },
  {
   "cell_type": "code",
   "execution_count": 18,
   "metadata": {},
   "outputs": [
    {
     "name": "stdout",
     "output_type": "stream",
     "text": [
      "Requirement already satisfied: iminizinc in ./venv/lib/python3.10/site-packages (from -r requirements.txt (line 1)) (0.4)\n",
      "Requirement already satisfied: ipykernel in ./venv/lib/python3.10/site-packages (from -r requirements.txt (line 2)) (6.5.1)\n",
      "Requirement already satisfied: minizinc in ./venv/lib/python3.10/site-packages (from -r requirements.txt (line 3)) (0.5.0)\n",
      "Requirement already satisfied: nest_asyncio in ./venv/lib/python3.10/site-packages (from -r requirements.txt (line 4)) (1.5.1)\n",
      "Requirement already satisfied: ipython in ./venv/lib/python3.10/site-packages (from iminizinc->-r requirements.txt (line 1)) (7.29.0)\n",
      "Requirement already satisfied: matplotlib-inline<0.2.0,>=0.1.0 in ./venv/lib/python3.10/site-packages (from ipykernel->-r requirements.txt (line 2)) (0.1.3)\n",
      "Requirement already satisfied: traitlets<6.0,>=5.1.0 in ./venv/lib/python3.10/site-packages (from ipykernel->-r requirements.txt (line 2)) (5.1.1)\n",
      "Requirement already satisfied: jupyter-client<8.0 in ./venv/lib/python3.10/site-packages (from ipykernel->-r requirements.txt (line 2)) (7.1.0)\n",
      "Requirement already satisfied: debugpy<2.0,>=1.0.0 in ./venv/lib/python3.10/site-packages (from ipykernel->-r requirements.txt (line 2)) (1.5.1)\n",
      "Requirement already satisfied: tornado<7.0,>=4.2 in ./venv/lib/python3.10/site-packages (from ipykernel->-r requirements.txt (line 2)) (6.1)\n",
      "Requirement already satisfied: prompt-toolkit!=3.0.0,!=3.0.1,<3.1.0,>=2.0.0 in ./venv/lib/python3.10/site-packages (from ipython->iminizinc->-r requirements.txt (line 1)) (3.0.22)\n",
      "Requirement already satisfied: pexpect>4.3 in ./venv/lib/python3.10/site-packages (from ipython->iminizinc->-r requirements.txt (line 1)) (4.8.0)\n",
      "Requirement already satisfied: backcall in ./venv/lib/python3.10/site-packages (from ipython->iminizinc->-r requirements.txt (line 1)) (0.2.0)\n",
      "Requirement already satisfied: pickleshare in ./venv/lib/python3.10/site-packages (from ipython->iminizinc->-r requirements.txt (line 1)) (0.7.5)\n",
      "Requirement already satisfied: pygments in ./venv/lib/python3.10/site-packages (from ipython->iminizinc->-r requirements.txt (line 1)) (2.10.0)\n",
      "Requirement already satisfied: jedi>=0.16 in ./venv/lib/python3.10/site-packages (from ipython->iminizinc->-r requirements.txt (line 1)) (0.18.1)\n",
      "Requirement already satisfied: setuptools>=18.5 in ./venv/lib/python3.10/site-packages (from ipython->iminizinc->-r requirements.txt (line 1)) (57.4.0)\n",
      "Requirement already satisfied: decorator in ./venv/lib/python3.10/site-packages (from ipython->iminizinc->-r requirements.txt (line 1)) (5.1.0)\n",
      "Requirement already satisfied: parso<0.9.0,>=0.8.0 in ./venv/lib/python3.10/site-packages (from jedi>=0.16->ipython->iminizinc->-r requirements.txt (line 1)) (0.8.2)\n",
      "Requirement already satisfied: jupyter-core>=4.6.0 in ./venv/lib/python3.10/site-packages (from jupyter-client<8.0->ipykernel->-r requirements.txt (line 2)) (4.9.1)\n",
      "Requirement already satisfied: pyzmq>=13 in ./venv/lib/python3.10/site-packages (from jupyter-client<8.0->ipykernel->-r requirements.txt (line 2)) (22.3.0)\n",
      "Requirement already satisfied: python-dateutil>=2.1 in ./venv/lib/python3.10/site-packages (from jupyter-client<8.0->ipykernel->-r requirements.txt (line 2)) (2.8.2)\n",
      "Requirement already satisfied: entrypoints in ./venv/lib/python3.10/site-packages (from jupyter-client<8.0->ipykernel->-r requirements.txt (line 2)) (0.3)\n",
      "Requirement already satisfied: ptyprocess>=0.5 in ./venv/lib/python3.10/site-packages (from pexpect>4.3->ipython->iminizinc->-r requirements.txt (line 1)) (0.7.0)\n",
      "Requirement already satisfied: wcwidth in ./venv/lib/python3.10/site-packages (from prompt-toolkit!=3.0.0,!=3.0.1,<3.1.0,>=2.0.0->ipython->iminizinc->-r requirements.txt (line 1)) (0.2.5)\n",
      "Requirement already satisfied: six>=1.5 in ./venv/lib/python3.10/site-packages (from python-dateutil>=2.1->jupyter-client<8.0->ipykernel->-r requirements.txt (line 2)) (1.16.0)\n",
      "\u001b[33mWARNING: You are using pip version 21.2.3; however, version 21.3.1 is available.\n",
      "You should consider upgrading via the '/workspaces/conf-dss2021/venv/bin/python -m pip install --upgrade pip' command.\u001b[0m\n"
     ]
    }
   ],
   "source": [
    "!pip3 install -r requirements.txt"
   ]
  },
  {
   "cell_type": "markdown",
   "metadata": {},
   "source": [
    "## Dedykowane IDE"
   ]
  },
  {
   "cell_type": "markdown",
   "metadata": {},
   "source": [
    "Dedykowane IDE jest do pobrania z tego [miejsca](https://www.minizinc.org/doc-2.5.5/en/installation.html). Jest to najprostsza forma użycia *minizinc*."
   ]
  },
  {
   "cell_type": "markdown",
   "metadata": {},
   "source": [
    "![mzn_ide](mzn-ide-playground4.jpg)"
   ]
  },
  {
   "cell_type": "markdown",
   "metadata": {},
   "source": [
    "## Współpraca z notebookiem"
   ]
  },
  {
   "cell_type": "markdown",
   "metadata": {},
   "source": [
    "Rozszerzenie *iminizinc* pozwala uruchamiać skrypty minizinc bezpośrednio w komórkach notebooka.\n",
    "\n",
    "Po załadowaniu rozszerzenia dostępna jest instrukcja *magic* `%%minizinc`"
   ]
  },
  {
   "cell_type": "code",
   "execution_count": 4,
   "metadata": {},
   "outputs": [
    {
     "data": {
      "application/javascript": "\"use strict\";\n\nCodeMirror.defineMode(\"text/minizinc\", function(config) {\n\n  var isOperatorChar = /[+\\-*=<>\\/]/;\n\n  var keywords = {\"array\":true,\n  \"bool\":true,\n  \"case\":true,\n  \"constraint\":true,\n  \"diff\":true,\n  \"div\":true,\n  \"else\":true,\n  \"elseif\":true,\n  \"endif\":true,\n  \"enum\":true,\n  \"false\":true,\n  \"float\":true,\n  \"function\":true,\n  \"if\":true,\n  \"in\":true,\n  \"include\":true,\n  \"int\":true,\n  \"intersect\":true,\n  \"let\":true,\n  \"list\":true,\n  \"maximize\":true,\n  \"minimize\":true,\n  \"mod\":true,\n  \"not\":true,\n  \"of\":true,\n  \"op\":true,\n  \"output\":true,\n  \"par\":true,\n  \"predicate\":true,\n  \"record\":true,\n  \"satisfy\":true,\n  \"set\":true,\n  \"solve\":true,\n  \"string\":true,\n  \"subset\":true,\n  \"superset\":true,\n  \"symdiff\":true,\n  \"test\":true,\n  \"then\":true,\n  \"true\":true,\n  \"tuple\":true,\n  \"type\":true,\n  \"union\":true,\n  \"var\":true,\n  \"where\":true,\n  \"xor\":true};\n\n  var punc = \":;,.(){}[]\";\n\n  function tokenBase(stream, state) {\n    var ch = stream.next();\n    if (ch == '\"') {\n      state.tokenize.push(tokenString);\n      return tokenString(stream, state);\n    }\n    if (/[\\d\\.]/.test(ch)) {\n      if (ch == \".\") {\n        stream.match(/^[0-9]+([eE][\\-+]?[0-9]+)?/);\n      } else if (ch == \"0\") {\n        stream.match(/^[xX][0-9a-fA-F]+/) || stream.match(/^0[0-7]+/);\n      } else {\n        stream.match(/^[0-9]*\\.?[0-9]*([eE][\\-+]?[0-9]+)?/);\n      }\n      return \"number\";\n    }\n    if (ch == \"/\") {\n      if (stream.eat(\"*\")) {\n        state.tokenize.push(tokenComment);\n        return tokenComment(stream, state);\n      }\n    }\n    if (ch == \"%\") {\n      stream.skipToEnd();\n      return \"comment\";\n    }\n    if (isOperatorChar.test(ch)) {\n      stream.eatWhile(isOperatorChar);\n      return \"operator\";\n    }\n    if (punc.indexOf(ch) > -1) {\n      return \"punctuation\";\n    }\n    stream.eatWhile(/[\\w\\$_\\xa1-\\uffff]/);\n    var cur = stream.current();\n    if (keywords.propertyIsEnumerable(cur)) {\n      return \"keyword\";\n    }\n    return \"variable\";\n  }\n\n  function tokenComment(stream, state) {\n    var maybeEnd = false, ch;\n    while (ch = stream.next()) {\n      if (ch == \"/\" && maybeEnd) {\n        state.tokenize.pop();\n        break;\n      }\n      maybeEnd = (ch == \"*\");\n    }\n    return \"comment\";\n  }\n\n  function tokenUntilClosingParen() {\n    var depth = 0;\n    return function(stream, state, prev) {\n      var inner = tokenBase(stream, state, prev);\n      console.log(\"untilClosing\",inner,stream.current());\n      if (inner == \"punctuation\") {\n        if (stream.current() == \"(\") {\n          ++depth;\n        } else if (stream.current() == \")\") {\n          if (depth == 0) {\n            stream.backUp(1)\n            state.tokenize.pop()\n            return state.tokenize[state.tokenize.length - 1](stream, state)\n          } else {\n            --depth;\n          }\n        }\n      }\n      return inner;\n    }\n  }\n\n  function tokenString(stream, state) {\n    var escaped = false, next, end = false;\n    while ((next = stream.next()) != null) {\n      if (next=='(' && escaped) {\n        state.tokenize.push(tokenUntilClosingParen());\n        return \"string\";\n      }\n      if (next == '\"' && !escaped) {end = true; break;}\n      escaped = !escaped && next == \"\\\\\";\n    }\n    if (end || !escaped)\n      state.tokenize.pop();\n    return \"string\";\n  }\n\n  return {\n    startState: function(basecolumn) {\n      return {\n        tokenize: []\n      };\n    },\n\n    token: function(stream, state) {\n      if (stream.eatSpace()) return null;\n      var style = (state.tokenize[state.tokenize.length - 1] || tokenBase)(stream, state);\n      console.log(\"token\",style);\n      return style;\n    },\n\n    blockCommentStart: \"/*\",\n    blockCommentEnd: \"*/\",\n    lineComment: \"%\"\n  };\n});\n\nCodeMirror.defineMIME(\"text/minizinc\", \"text/minizinc\");\n\nJupyter.CodeCell.options_default.highlight_modes['magic_text/minizinc'] = {'reg':[/^%%minizinc/]} ;\n\nJupyter.notebook.get_cells().map(function(cell){\n  if (cell.cell_type == 'code'){ cell.auto_highlight(); }\n}) ;\n",
      "text/plain": [
       "<IPython.core.display.Javascript object>"
      ]
     },
     "metadata": {},
     "output_type": "display_data"
    },
    {
     "name": "stdout",
     "output_type": "stream",
     "text": [
      "MiniZinc to FlatZinc converter, version 2.5.3\n",
      "Copyright (C) 2014-2020 Monash University, NICTA, Data61\n"
     ]
    }
   ],
   "source": [
    " %load_ext iminizinc\n"
   ]
  },
  {
   "cell_type": "code",
   "execution_count": 20,
   "metadata": {},
   "outputs": [],
   "source": [
    "n = 10"
   ]
  },
  {
   "cell_type": "code",
   "execution_count": 3,
   "metadata": {},
   "outputs": [
    {
     "name": "stderr",
     "output_type": "stream",
     "text": [
      "UsageError: Cell magic `%%minizinc` not found.\n"
     ]
    }
   ],
   "source": [
    "%%minizinc\n",
    "include \"alldifferent.mzn\";\n",
    "int: n;\n",
    "array[1..n] of var 1..n: queens;\n",
    "constraint alldifferent(queens);\n",
    "constraint alldifferent([queens[i]+i | i in 1..n]);\n",
    "constraint alldifferent([queens[i]-i | i in 1..n]);\n",
    "solve satisfy;"
   ]
  },
  {
   "cell_type": "markdown",
   "metadata": {},
   "source": [
    "## Współpraca z Pythonem"
   ]
  },
  {
   "cell_type": "markdown",
   "metadata": {},
   "source": [
    "Pakiet [minizinc](https://minizinc-python.readthedocs.io/en/latest/getting_started.html) pozwala wołać `minizinc` z poziomu programu w języku Python."
   ]
  },
  {
   "cell_type": "code",
   "execution_count": 22,
   "metadata": {},
   "outputs": [],
   "source": [
    "## Wymagane bo minzinc używa async w sposób nie kompatybilny z notebook\n",
    "import nest_asyncio\n",
    "nest_asyncio.apply()"
   ]
  },
  {
   "cell_type": "code",
   "execution_count": 23,
   "metadata": {},
   "outputs": [
    {
     "name": "stdout",
     "output_type": "stream",
     "text": [
      "include \"all_different.mzn\";\n",
      "int: k = 8;\n",
      "array[1..k] of var 1..k: queens;\n",
      "constraint all_different(queens);\n",
      "constraint all_different([queens[i]+i | i in 1..k]);\n",
      "constraint all_different([queens[i]-i | i in 1..k]);\n",
      "solve satisfy;\n"
     ]
    }
   ],
   "source": [
    "!cat queens.mzn"
   ]
  },
  {
   "cell_type": "code",
   "execution_count": 26,
   "metadata": {},
   "outputs": [
    {
     "name": "stdout",
     "output_type": "stream",
     "text": [
      "[175, 94, 87, 93, 153, 143, 85, 147, 47, 84, 168, 83, 139, 173, 475, 461, 171, 470, 74, 172, 91, 469, 174, 532, 170, 539, 537, 527, 523, 99, 462, 164, 528, 543, 498, 166, 525, 508, 463, 501, 78, 445, 497, 460, 176, 82, 86, 468, 450, 458, 491, 444, 46, 73, 442, 545, 560, 452, 581, 558, 576, 2, 575, 184, 561, 531, 201, 88, 533, 433, 89, 550, 456, 517, 425, 431, 428, 194, 90, 552, 441, 436, 493, 430, 432, 429, 513, 71, 423, 522, 422, 204, 492, 434, 202, 45, 70, 157, 580, 504, 426, 418, 421, 571, 510, 598, 546, 117, 583, 579, 559, 549, 417, 412, 588, 77, 503, 595, 516, 414, 410, 602, 500, 427, 75, 413, 405, 132, 424, 506, 610, 514, 402, 404, 408, 626, 169, 44, 67, 616, 661, 647, 566, 641, 399, 401, 677, 160, 634, 686, 674, 671, 156, 680, 69, 392, 148, 400, 834, 483, 828, 826, 847, 894, 72, 161, 407, 391, 406, 676, 685, 146, 632, 678, 631, 638, 396, 394, 43, 66, 149, 81, 618, 633, 635, 657, 655, 494, 585, 141, 474, 587, 574, 601, 472, 384, 612, 395, 379, 389, 76, 563, 165, 388, 630, 438, 481, 567, 582, 534, 490, 540, 200, 556, 466, 594, 64, 562, 42, 63, 547, 606, 187, 589, 596, 364, 451, 512, 369, 476, 489, 129, 355, 526, 464, 593, 128, 573, 448, 548, 613, 242, 447, 68, 363, 131, 569, 584, 551, 465, 486, 231, 502, 568, 359, 597, 459, 41, 60, 119, 207, 577, 629, 467, 344, 603, 256, 144, 622, 600, 623, 524, 535, 480, 373, 488, 62, 372, 281, 478, 65, 348, 455, 217, 499, 137, 643, 607, 220, 507, 482, 142, 273, 611, 310, 40, 578, 331, 212, 397, 270, 496, 361, 356, 214, 80, 435, 79, 485, 385, 411, 335, 380, 302, 986, 487, 544, 390, 365, 979, 263, 352, 260, 565, 980, 996, 976, 505, 357, 520, 495, 988, 39, 59, 484, 271, 975, 100, 320, 968, 972, 958, 96, 997, 999, 541, 555, 994, 97, 570, 243, 966, 192, 991, 954, 960, 193, 253, 509, 197, 249, 953, 951, 473, 306, 974, 957, 284, 38, 58, 198, 301, 948, 899, 360, 963, 334, 959, 248, 553, 946, 188, 943, 105, 967, 965, 973, 984, 266, 987, 61, 992, 336, 995, 993, 990, 1000, 264, 977, 225, 257, 964, 945, 37, 56, 998, 383, 615, 112, 982, 962, 947, 981, 831, 955, 337, 288, 118, 971, 938, 928, 640, 905, 308, 909, 346, 529, 235, 940, 932, 554, 832, 646, 592, 901, 919, 362, 36, 55, 927, 154, 177, 564, 599, 886, 300, 152, 653, 837, 518, 895, 538, 261, 654, 542, 321, 277, 848, 660, 688, 628, 557, 827, 591, 521, 590, 650, 664, 625, 98, 35, 53, 572, 652, 586, 285, 637, 644, 536, 151, 642, 530, 276, 619, 621, 665, 604, 180, 608, 857, 624, 57, 515, 636, 648, 609, 888, 511, 605, 477, 182, 881, 34, 645, 519, 681, 121, 296, 936, 916, 471, 627, 861, 162, 326, 617, 620, 683, 662, 858, 614, 797, 852, 833, 810, 479, 185, 330, 167, 835, 819, 902, 865, 33, 52, 796, 911, 95, 829, 790, 890, 92, 882, 856, 913, 866, 854, 933, 850, 846, 931, 811, 915, 887, 449, 457, 870, 803, 961, 179, 872, 862, 956, 32, 670, 125, 985, 878, 978, 983, 969, 863, 127, 808, 950, 875, 838, 989, 446, 949, 970, 454, 138, 135, 54, 944, 908, 844, 782, 820, 453, 656, 31, 51, 639, 807, 942, 851, 809, 136, 420, 841, 140, 649, 666, 669, 934, 879, 262, 312, 651, 133, 798, 836, 723, 415, 843, 839, 788, 158, 30, 50, 658, 921, 889, 439, 443, 682, 799, 812, 823, 134, 814, 659, 416, 440, 145, 679, 668, 123, 917, 922, 891, 374, 437, 939, 403, 29, 49, 893, 923, 896, 375, 675, 937, 282, 924, 821, 925, 155, 929, 419, 926, 122, 351, 952, 163, 150, 900, 272, 116, 345, 930, 28, 409, 941, 806, 115, 904, 918, 914, 868, 377, 871, 159, 885, 855, 935, 353, 347, 853, 322, 840, 113, 785, 842, 349, 794, 27, 48, 845, 783, 813, 792, 830, 712, 706, 791, 800, 795, 793, 789, 350, 343, 314, 111, 196, 760, 784, 717, 768, 692, 26, 804, 801, 786, 780, 325, 779, 339, 109, 805, 333, 189, 338, 787, 761, 110, 328, 107, 689, 332, 697, 206, 672, 25, 181, 704, 714, 327, 687, 718, 340, 195, 191, 667, 106, 329, 663, 767, 103, 700, 673, 398, 691, 309, 730, 24, 708, 178, 690, 324, 393, 186, 102, 183, 694, 696, 104, 101, 684, 386, 705, 318, 190, 731, 719, 703, 23, 108, 693, 307, 378, 699, 695, 316, 721, 815, 711, 311, 299, 777, 371, 727, 114, 382, 715, 387, 22, 366, 298, 215, 702, 710, 698, 294, 213, 295, 358, 701, 120, 211, 216, 354, 210, 259, 297, 21, 209, 342, 376, 286, 292, 124, 126, 317, 283, 203, 268, 208, 199, 205, 130, 367, 219, 20, 274, 709, 267, 368, 725, 275, 713, 218, 279, 724, 370, 707, 221, 280, 222, 381, 19, 722, 735, 226, 720, 802, 816, 825, 749, 716, 728, 884, 859, 733, 757, 726, 18, 824, 744, 864, 877, 763, 737, 912, 883, 860, 776, 736, 764, 732, 775, 17, 740, 867, 739, 876, 907, 892, 906, 743, 254, 920, 903, 223, 897, 16, 910, 232, 252, 898, 880, 873, 229, 874, 869, 746, 849, 818, 15, 228, 752, 817, 227, 238, 265, 738, 751, 747, 729, 822, 14, 765, 773, 769, 734, 304, 774, 770, 755, 742, 748, 13, 230, 778, 781, 766, 745, 762, 772, 234, 756, 12, 241, 771, 341, 236, 239, 233, 224, 237, 11, 758, 754, 741, 753, 750, 303, 313, 10, 759, 323, 293, 251, 245, 247, 9, 244, 240, 278, 315, 319, 8, 289, 291, 246, 6, 255, 305, 287, 290, 7, 258, 4, 250, 269, 5, 3, 1]\n"
     ]
    }
   ],
   "source": [
    "from minizinc import Instance, Model, Solver\n",
    "\n",
    "# Load n-Queens model from file\n",
    "nqueens = Model(\"./queens.mzn\")\n",
    "# Find the MiniZinc solver configuration for Gecode\n",
    "gecode = Solver.lookup(\"gecode\")\n",
    "# Create an Instance of the n-Queens model for Gecode\n",
    "instance = Instance(gecode, nqueens)\n",
    "# Assign 4 to n\n",
    "instance[\"k\"] = 1000\n",
    "result = instance.solve()\n",
    "# Output the array q\n",
    "print(result[\"queens\"])"
   ]
  },
  {
   "cell_type": "code",
   "execution_count": 28,
   "metadata": {},
   "outputs": [
    {
     "name": "stdout",
     "output_type": "stream",
     "text": [
      "[1, 3, 5, 269, 250, 4, 258, 7, 290, 287, 305, 255, 6, 246, 291, 289, 8, 319, 315, 278, 240, 244, 9, 247, 245, 251, 293, 323, 759, 10, 313, 303, 750, 753, 741, 754, 758, 11, 237, 224, 233, 239, 236, 341, 771, 241, 12, 756, 234, 772, 762, 745, 766, 781, 778, 230, 13, 748, 742, 755, 770, 774, 304, 734, 769, 773, 765, 14, 822, 729, 747, 751, 738, 265, 238, 227, 817, 752, 228, 15, 818, 849, 746, 869, 874, 229, 873, 880, 898, 252, 232, 910, 16, 897, 223, 903, 920, 254, 743, 906, 892, 907, 876, 739, 867, 740, 17, 775, 732, 764, 736, 776, 860, 883, 912, 737, 763, 877, 864, 744, 824, 18, 726, 757, 733, 859, 884, 728, 716, 749, 825, 816, 802, 720, 226, 735, 722, 19, 381, 222, 280, 221, 707, 370, 724, 279, 218, 713, 275, 725, 368, 267, 709, 274, 20, 219, 367, 130, 205, 199, 208, 268, 203, 283, 317, 126, 124, 292, 286, 376, 342, 209, 21, 297, 259, 210, 354, 216, 211, 120, 701, 358, 295, 213, 294, 698, 710, 702, 215, 298, 366, 22, 387, 715, 382, 114, 727, 371, 777, 299, 311, 711, 815, 721, 316, 695, 699, 378, 307, 693, 108, 23, 703, 719, 731, 190, 318, 705, 386, 684, 101, 104, 696, 694, 183, 102, 186, 393, 324, 690, 178, 708, 24, 730, 309, 691, 398, 673, 700, 103, 767, 663, 329, 106, 667, 191, 195, 340, 718, 687, 327, 714, 704, 181, 25, 672, 206, 697, 332, 689, 107, 328, 110, 761, 787, 338, 189, 333, 805, 109, 339, 779, 325, 780, 786, 801, 804, 26, 692, 768, 717, 784, 760, 196, 111, 314, 343, 350, 789, 793, 795, 800, 791, 706, 712, 830, 792, 813, 783, 845, 48, 27, 794, 349, 842, 785, 113, 840, 322, 853, 347, 353, 935, 855, 885, 159, 871, 377, 868, 914, 918, 904, 115, 806, 941, 409, 28, 930, 345, 116, 272, 900, 150, 163, 952, 351, 122, 926, 419, 929, 155, 925, 821, 924, 282, 937, 675, 375, 896, 923, 893, 49, 29, 403, 939, 437, 374, 891, 922, 917, 123, 668, 679, 145, 440, 416, 659, 814, 134, 823, 812, 799, 682, 443, 439, 889, 921, 658, 50, 30, 158, 788, 839, 843, 415, 723, 836, 798, 133, 651, 312, 262, 879, 934, 669, 666, 649, 140, 841, 420, 136, 809, 851, 942, 807, 639, 51, 31, 656, 453, 820, 782, 844, 908, 944, 54, 135, 138, 454, 970, 949, 446, 989, 838, 875, 950, 808, 127, 863, 969, 983, 978, 878, 985, 125, 670, 32, 956, 862, 872, 179, 961, 803, 870, 457, 449, 887, 915, 811, 931, 846, 850, 933, 854, 866, 913, 856, 882, 92, 890, 790, 829, 95, 911, 796, 52, 33, 865, 902, 819, 835, 167, 330, 185, 479, 810, 833, 852, 797, 614, 858, 662, 683, 620, 617, 326, 162, 861, 627, 471, 916, 936, 296, 121, 681, 519, 645, 34, 881, 182, 477, 605, 511, 888, 609, 648, 636, 515, 57, 624, 857, 608, 180, 604, 665, 621, 619, 276, 530, 642, 151, 536, 644, 637, 285, 586, 652, 572, 53, 35, 98, 625, 664, 650, 590, 521, 591, 827, 557, 628, 688, 660, 848, 277, 321, 542, 654, 261, 538, 895, 518, 837, 653, 152, 300, 886, 599, 564, 177, 154, 927, 55, 36, 362, 919, 901, 592, 646, 832, 554, 932, 940, 235, 529, 346, 909, 308, 905, 640, 928, 938, 971, 118, 288, 337, 955, 831, 981, 947, 962, 982, 112, 615, 383, 998, 56, 37, 945, 964, 257, 225, 977, 264, 1000, 990, 993, 995, 336, 992, 61, 987, 266, 984, 973, 965, 967, 105, 943, 188, 946, 553, 248, 959, 334, 963, 360, 899, 948, 301, 198, 58, 38, 284, 957, 974, 306, 473, 951, 953, 249, 197, 509, 253, 193, 960, 954, 991, 192, 966, 243, 570, 97, 994, 555, 541, 999, 997, 96, 958, 972, 968, 320, 100, 975, 271, 484, 59, 39, 988, 495, 520, 357, 505, 976, 996, 980, 565, 260, 352, 263, 979, 365, 390, 544, 487, 986, 302, 380, 335, 411, 385, 485, 79, 435, 80, 214, 356, 361, 496, 270, 397, 212, 331, 578, 40, 310, 611, 273, 142, 482, 507, 220, 607, 643, 137, 499, 217, 455, 348, 65, 478, 281, 372, 62, 488, 373, 480, 535, 524, 623, 600, 622, 144, 256, 603, 344, 467, 629, 577, 207, 119, 60, 41, 459, 597, 359, 568, 502, 231, 486, 465, 551, 584, 569, 131, 363, 68, 447, 242, 613, 548, 448, 573, 128, 593, 464, 526, 355, 129, 489, 476, 369, 512, 451, 364, 596, 589, 187, 606, 547, 63, 42, 562, 64, 594, 466, 556, 200, 540, 490, 534, 582, 567, 481, 438, 630, 388, 165, 563, 76, 389, 379, 395, 612, 384, 472, 601, 574, 587, 474, 141, 585, 494, 655, 657, 635, 633, 618, 81, 149, 66, 43, 394, 396, 638, 631, 678, 632, 146, 685, 676, 406, 391, 407, 161, 72, 894, 847, 826, 828, 483, 834, 400, 148, 392, 69, 680, 156, 671, 674, 686, 634, 160, 677, 401, 399, 641, 566, 647, 661, 616, 67, 44, 169, 626, 408, 404, 402, 514, 610, 506, 424, 132, 405, 413, 75, 427, 500, 602, 410, 414, 516, 595, 503, 77, 588, 412, 417, 549, 559, 579, 583, 117, 546, 598, 510, 571, 421, 418, 426, 504, 580, 157, 70, 45, 202, 434, 492, 204, 422, 522, 423, 71, 513, 429, 432, 430, 493, 436, 441, 552, 90, 194, 428, 431, 425, 517, 456, 550, 89, 433, 533, 88, 201, 531, 561, 184, 575, 2, 576, 558, 581, 452, 560, 545, 442, 73, 46, 444, 491, 458, 450, 468, 86, 82, 176, 460, 497, 445, 78, 501, 463, 508, 525, 166, 498, 543, 528, 164, 462, 99, 523, 527, 537, 539, 170, 532, 174, 469, 91, 172, 74, 470, 171, 461, 475, 173, 139, 83, 168, 84, 47, 147, 85, 143, 153, 93, 87, 94, 175]\n"
     ]
    }
   ],
   "source": [
    "from minizinc import Instance, Model, Solver\n",
    "\n",
    "# Load n-Queens model from file\n",
    "nqueens = Model(\"./queens_ff.mzn\")\n",
    "# Find the MiniZinc solver configuration for Gecode\n",
    "gecode = Solver.lookup(\"gecode\")\n",
    "# Create an Instance of the n-Queens model for Gecode\n",
    "instance = Instance(gecode, nqueens)\n",
    "# Assign 4 to n\n",
    "instance[\"k\"] = 1000\n",
    "result = instance.solve()\n",
    "# Output the array q\n",
    "print(result[\"queens\"])"
   ]
  },
  {
   "cell_type": "code",
   "execution_count": null,
   "metadata": {},
   "outputs": [],
   "source": []
  },
  {
   "cell_type": "markdown",
   "metadata": {},
   "source": [
    "# Optymalizacja kampanii marketingowej"
   ]
  },
  {
   "cell_type": "markdown",
   "metadata": {},
   "source": [
    "## Opis zadania biznesowego\n"
   ]
  },
  {
   "cell_type": "markdown",
   "metadata": {},
   "source": [
    "### Kluczowe decyzje biznesowe?"
   ]
  },
  {
   "cell_type": "markdown",
   "metadata": {},
   "source": [
    "#### **Co mam zaoferować?**"
   ]
  },
  {
   "cell_type": "markdown",
   "metadata": {},
   "source": [
    "Firma posiada **wiele produktów/usług**, które chce oferować swoim klientom."
   ]
  },
  {
   "cell_type": "markdown",
   "metadata": {},
   "source": [
    "#### **Jak mam zaoferować?**"
   ]
  },
  {
   "cell_type": "markdown",
   "metadata": {},
   "source": [
    "Firma używa **różnych kanałów komunikacji** z klientami: email, telefon, strona www."
   ]
  },
  {
   "cell_type": "markdown",
   "metadata": {},
   "source": [
    "#### **Komu mam zaoferować?**"
   ]
  },
  {
   "cell_type": "markdown",
   "metadata": {},
   "source": [
    "W zależności od charakterystyki klienta (demografia, profil behawioralny, itp.) klienci różnie zareagują na ofertę danego produktu w danym kanale."
   ]
  },
  {
   "cell_type": "markdown",
   "metadata": {},
   "source": [
    "### Proces biznesowy"
   ]
  },
  {
   "cell_type": "markdown",
   "metadata": {},
   "source": [
    "![kampania_process](cmpgn_process.png)"
   ]
  },
  {
   "cell_type": "markdown",
   "metadata": {},
   "source": [
    "##### Szacowanie szansy zakupu"
   ]
  },
  {
   "cell_type": "markdown",
   "metadata": {},
   "source": [
    "Odpowiednie miejsce na użycie modelu *uczenia maszynowego*, który dla każdej krotki `(klient, kanał, produkt)` wyliczy szansę zakupu."
   ]
  },
  {
   "cell_type": "markdown",
   "metadata": {},
   "source": [
    "##### Wybór optymalnej strategii"
   ]
  },
  {
   "cell_type": "markdown",
   "metadata": {},
   "source": [
    "Wybór działania marketingowego nie jest dowolny. Są pewne ograniczenia:"
   ]
  },
  {
   "cell_type": "markdown",
   "metadata": {},
   "source": [
    "* Ograniczony budżet na kampanię.\n",
    "* Minimalna liczba ofert dla danego produktu w ramach kampanii.\n",
    "* Kampanijne progi zwrotu z inwestycji muszą być spełnione."
   ]
  },
  {
   "cell_type": "markdown",
   "metadata": {},
   "source": [
    "**Tutaj *uczenie maszynowe* nie pomoże!**"
   ]
  },
  {
   "cell_type": "markdown",
   "metadata": {},
   "source": [
    "### Rozwiązanie w postaci modelu optymalizacyjnego\n"
   ]
  },
  {
   "cell_type": "markdown",
   "metadata": {},
   "source": [
    "#### Co to jest model optymalizacyjny?"
   ]
  },
  {
   "cell_type": "markdown",
   "metadata": {},
   "source": [
    "![opt-model](opt-model.png)"
   ]
  },
  {
   "cell_type": "markdown",
   "metadata": {},
   "source": [
    "#### Model dla optymalizacji kampanii marketingowej"
   ]
  },
  {
   "cell_type": "code",
   "execution_count": 2,
   "metadata": {},
   "outputs": [
    {
     "data": {
      "application/javascript": "\"use strict\";\n\nCodeMirror.defineMode(\"text/minizinc\", function(config) {\n\n  var isOperatorChar = /[+\\-*=<>\\/]/;\n\n  var keywords = {\"array\":true,\n  \"bool\":true,\n  \"case\":true,\n  \"constraint\":true,\n  \"diff\":true,\n  \"div\":true,\n  \"else\":true,\n  \"elseif\":true,\n  \"endif\":true,\n  \"enum\":true,\n  \"false\":true,\n  \"float\":true,\n  \"function\":true,\n  \"if\":true,\n  \"in\":true,\n  \"include\":true,\n  \"int\":true,\n  \"intersect\":true,\n  \"let\":true,\n  \"list\":true,\n  \"maximize\":true,\n  \"minimize\":true,\n  \"mod\":true,\n  \"not\":true,\n  \"of\":true,\n  \"op\":true,\n  \"output\":true,\n  \"par\":true,\n  \"predicate\":true,\n  \"record\":true,\n  \"satisfy\":true,\n  \"set\":true,\n  \"solve\":true,\n  \"string\":true,\n  \"subset\":true,\n  \"superset\":true,\n  \"symdiff\":true,\n  \"test\":true,\n  \"then\":true,\n  \"true\":true,\n  \"tuple\":true,\n  \"type\":true,\n  \"union\":true,\n  \"var\":true,\n  \"where\":true,\n  \"xor\":true};\n\n  var punc = \":;,.(){}[]\";\n\n  function tokenBase(stream, state) {\n    var ch = stream.next();\n    if (ch == '\"') {\n      state.tokenize.push(tokenString);\n      return tokenString(stream, state);\n    }\n    if (/[\\d\\.]/.test(ch)) {\n      if (ch == \".\") {\n        stream.match(/^[0-9]+([eE][\\-+]?[0-9]+)?/);\n      } else if (ch == \"0\") {\n        stream.match(/^[xX][0-9a-fA-F]+/) || stream.match(/^0[0-7]+/);\n      } else {\n        stream.match(/^[0-9]*\\.?[0-9]*([eE][\\-+]?[0-9]+)?/);\n      }\n      return \"number\";\n    }\n    if (ch == \"/\") {\n      if (stream.eat(\"*\")) {\n        state.tokenize.push(tokenComment);\n        return tokenComment(stream, state);\n      }\n    }\n    if (ch == \"%\") {\n      stream.skipToEnd();\n      return \"comment\";\n    }\n    if (isOperatorChar.test(ch)) {\n      stream.eatWhile(isOperatorChar);\n      return \"operator\";\n    }\n    if (punc.indexOf(ch) > -1) {\n      return \"punctuation\";\n    }\n    stream.eatWhile(/[\\w\\$_\\xa1-\\uffff]/);\n    var cur = stream.current();\n    if (keywords.propertyIsEnumerable(cur)) {\n      return \"keyword\";\n    }\n    return \"variable\";\n  }\n\n  function tokenComment(stream, state) {\n    var maybeEnd = false, ch;\n    while (ch = stream.next()) {\n      if (ch == \"/\" && maybeEnd) {\n        state.tokenize.pop();\n        break;\n      }\n      maybeEnd = (ch == \"*\");\n    }\n    return \"comment\";\n  }\n\n  function tokenUntilClosingParen() {\n    var depth = 0;\n    return function(stream, state, prev) {\n      var inner = tokenBase(stream, state, prev);\n      console.log(\"untilClosing\",inner,stream.current());\n      if (inner == \"punctuation\") {\n        if (stream.current() == \"(\") {\n          ++depth;\n        } else if (stream.current() == \")\") {\n          if (depth == 0) {\n            stream.backUp(1)\n            state.tokenize.pop()\n            return state.tokenize[state.tokenize.length - 1](stream, state)\n          } else {\n            --depth;\n          }\n        }\n      }\n      return inner;\n    }\n  }\n\n  function tokenString(stream, state) {\n    var escaped = false, next, end = false;\n    while ((next = stream.next()) != null) {\n      if (next=='(' && escaped) {\n        state.tokenize.push(tokenUntilClosingParen());\n        return \"string\";\n      }\n      if (next == '\"' && !escaped) {end = true; break;}\n      escaped = !escaped && next == \"\\\\\";\n    }\n    if (end || !escaped)\n      state.tokenize.pop();\n    return \"string\";\n  }\n\n  return {\n    startState: function(basecolumn) {\n      return {\n        tokenize: []\n      };\n    },\n\n    token: function(stream, state) {\n      if (stream.eatSpace()) return null;\n      var style = (state.tokenize[state.tokenize.length - 1] || tokenBase)(stream, state);\n      console.log(\"token\",style);\n      return style;\n    },\n\n    blockCommentStart: \"/*\",\n    blockCommentEnd: \"*/\",\n    lineComment: \"%\"\n  };\n});\n\nCodeMirror.defineMIME(\"text/minizinc\", \"text/minizinc\");\n\nJupyter.CodeCell.options_default.highlight_modes['magic_text/minizinc'] = {'reg':[/^%%minizinc/]} ;\n\nJupyter.notebook.get_cells().map(function(cell){\n  if (cell.cell_type == 'code'){ cell.auto_highlight(); }\n}) ;\n",
      "text/plain": [
       "<IPython.core.display.Javascript object>"
      ]
     },
     "metadata": {},
     "output_type": "display_data"
    },
    {
     "name": "stdout",
     "output_type": "stream",
     "text": [
      "MiniZinc to FlatZinc converter, version 2.5.3\n",
      "Copyright (C) 2014-2020 Monash University, NICTA, Data61\n"
     ]
    }
   ],
   "source": [
    "%load_ext iminizinc"
   ]
  },
  {
   "cell_type": "markdown",
   "metadata": {},
   "source": [
    "##### Parametry"
   ]
  },
  {
   "cell_type": "markdown",
   "metadata": {},
   "source": [
    "* Mamy `pCustomerN` klientów indeksowanych liczbami naturalnymi\n",
    "* Mamy `pProductsN` produktów/usług indeksowanych liczbami naturalnymi\n",
    "* Mamy `pChannelsN` kanałów (sposobów) komunikacji z klientami"
   ]
  },
  {
   "cell_type": "markdown",
   "metadata": {},
   "source": [
    "W *minizinc* zapisujemy to następująco:"
   ]
  },
  {
   "cell_type": "code",
   "execution_count": 12,
   "metadata": {},
   "outputs": [
    {
     "name": "stdout",
     "output_type": "stream",
     "text": [
      "Variable pCustomersN is undefined\n",
      "Variable pProductsN is undefined\n",
      "Variable pChannels is undefined\n"
     ]
    }
   ],
   "source": [
    "%%minizinc\n",
    "int: pCustomersN;\n",
    "int: pProductsN;\n",
    "int: pChannelsN;"
   ]
  },
  {
   "cell_type": "markdown",
   "metadata": {},
   "source": [
    "Spodziewany zysk z zaofoerowania produktu danemu klientowi w danym kanale (wyliczony na bazie szans zakupowyc). Informajcę tę zapisujemy w postaci tablicy indeksowanej klientami, produktami i kanałami."
   ]
  },
  {
   "cell_type": "code",
   "execution_count": 14,
   "metadata": {},
   "outputs": [
    {
     "name": "stdout",
     "output_type": "stream",
     "text": [
      "Variable pCustomersN is undefined\n",
      "Variable pProductsN is undefined\n",
      "Variable pChannelsN is undefined\n",
      "Variable pPropensity is undefined\n"
     ]
    }
   ],
   "source": [
    "%%minizinc\n",
    "int: pCustomersN;\n",
    "int: pProductsN;\n",
    "int: pChannelsN;\n",
    "array[1..pCustomersN, 1..pProductsN, 1..pChannelsN] of float: pExpectedReve;"
   ]
  },
  {
   "cell_type": "markdown",
   "metadata": {},
   "source": [
    "Minimalny próg zwrotu z kampanii"
   ]
  },
  {
   "cell_type": "code",
   "execution_count": null,
   "metadata": {},
   "outputs": [],
   "source": [
    "\n",
    "%%minizinc\n",
    "int: pCustomersN;\n",
    "int: pProductsN;\n",
    "int: pChannelsN;\n",
    "array[1..pCustomersN, 1..pProductsN, 1..pChannelsN] of float: pExpectedReve;\n",
    "float: pMinHurdleReve;"
   ]
  },
  {
   "cell_type": "markdown",
   "metadata": {},
   "source": [
    "Koszty działań marketingowych zależą tylko od kanału komunikacji."
   ]
  },
  {
   "cell_type": "code",
   "execution_count": null,
   "metadata": {},
   "outputs": [],
   "source": [
    "\n",
    "%%minizinc\n",
    "int: pCustomersN;\n",
    "int: pProductsN;\n",
    "int: pChannelsN;\n",
    "array[1..pCustomersN, 1..pProductsN, 1..pChannelsN] of float: pExpectedReve;\n",
    "\n",
    "array[1..pChannelsN] of float: pChannelCosts;"
   ]
  },
  {
   "cell_type": "markdown",
   "metadata": {},
   "source": [
    "Maksymalny budżet na kampanię\n"
   ]
  },
  {
   "cell_type": "code",
   "execution_count": null,
   "metadata": {},
   "outputs": [],
   "source": [
    "\n",
    "%%minizinc\n",
    "int: pCustomersN;\n",
    "int: pProductsN;\n",
    "int: pChannelsN;\n",
    "array[1..pCustomersN, 1..pProductsN, 1..pChannelsN] of float: pExpectedReve;\n",
    "\n",
    "array[1..pChannelsN] of float: pChannelCosts;\n",
    "\n",
    "float: pMaxBudget;"
   ]
  },
  {
   "cell_type": "markdown",
   "metadata": {},
   "source": [
    "Minimalna liczba ofert dla danego produktu"
   ]
  },
  {
   "cell_type": "code",
   "execution_count": 19,
   "metadata": {},
   "outputs": [
    {
     "name": "stdout",
     "output_type": "stream",
     "text": [
      "Variable pCustomersN is undefined\n",
      "Variable pProductsN is undefined\n",
      "Variable pChannelsN is undefined\n",
      "Variable pPropensity is undefined\n",
      "Variable pChannelCosts is undefined\n",
      "Variable pMaxBudget is undefined\n",
      "Variable pProductsMinOffersN is undefined\n"
     ]
    }
   ],
   "source": [
    "\n",
    "%%minizinc\n",
    "int: pCustomersN;\n",
    "int: pProductsN;\n",
    "int: pChannelsN;\n",
    "array[1..pCustomersN, 1..pProductsN, 1..pChannelsN] of float: pExpectedReve;\n",
    "\n",
    "array[1..pChannelsN] of float: pChannelCosts;\n",
    "\n",
    "float: pMaxBudget;\n",
    "\n",
    "array[1..pProductsN] of int: pProductsMinOffersN;"
   ]
  },
  {
   "cell_type": "markdown",
   "metadata": {},
   "source": [
    "##### Zmienne"
   ]
  },
  {
   "cell_type": "markdown",
   "metadata": {},
   "source": [
    "Dla każdego klienta, produktu i kanału podejmuję decyzję (tak/nie) czy takie działanie podjąć."
   ]
  },
  {
   "cell_type": "code",
   "execution_count": 20,
   "metadata": {},
   "outputs": [
    {
     "name": "stdout",
     "output_type": "stream",
     "text": [
      "Variable pCustomersN is undefined\n",
      "Variable pProductsN is undefined\n",
      "Variable pChannelsN is undefined\n",
      "Variable pPropensity is undefined\n",
      "Variable pChannelCosts is undefined\n",
      "Variable pMaxBudget is undefined\n",
      "Variable pProductsMinOffersN is undefined\n"
     ]
    }
   ],
   "source": [
    "%%minizinc\n",
    "%Parametry\n",
    "int: pCustomersN;\n",
    "int: pProductsN;\n",
    "int: pChannelsN;\n",
    "array[1..pCustomersN, 1..pProductsN, 1..pChannelsN] of float: pExpectedReve;\n",
    "array[1..pChannelsN] of float: pChannelCosts;\n",
    "float: pMaxBudget;\n",
    "array[1..pProductsN] of int: pProductsMinOffersN;\n",
    "float: pMinHurdleReve;\n",
    "\n",
    "%Zmienne\n",
    "array[1..pCustomersN, 1..pProductsN, 1..pChannelsN] of var 0..1: vAssignment;\n"
   ]
  },
  {
   "cell_type": "markdown",
   "metadata": {},
   "source": [
    "##### Ograniczenia"
   ]
  },
  {
   "cell_type": "markdown",
   "metadata": {},
   "source": [
    "**Maksymalny budżet na kampanię.**\n",
    "\n",
    "Suma kosztów kontaktów z klientami w danych kanałach nie może przekroczyć `pMaxBudget`."
   ]
  },
  {
   "cell_type": "code",
   "execution_count": 21,
   "metadata": {},
   "outputs": [
    {
     "name": "stdout",
     "output_type": "stream",
     "text": [
      "Variable pCustomersN is undefined\n",
      "Variable pProductsN is undefined\n",
      "Variable pChannelsN is undefined\n",
      "Variable pPropensity is undefined\n",
      "Variable pChannelCosts is undefined\n",
      "Variable pMaxBudget is undefined\n",
      "Variable pProductsMinOffersN is undefined\n"
     ]
    }
   ],
   "source": [
    "\n",
    "%%minizinc\n",
    "%Parametry\n",
    "int: pCustomersN;\n",
    "int: pProductsN;\n",
    "int: pChannelsN;\n",
    "array[1..pCustomersN, 1..pProductsN, 1..pChannelsN] of float: pExpectedReve;\n",
    "array[1..pChannelsN] of float: pChannelCosts;\n",
    "float: pMaxBudget;\n",
    "array[1..pProductsN] of int: pProductsMinOffersN;\n",
    "float: pMinHurdleReve;\n",
    "\n",
    "%Zmienne\n",
    "array[1..pCustomersN, 1..pProductsN, 1..pChannelsN] of var 0..1: vAssignment;\n",
    "\n",
    "%Ograniczenia\n",
    "constraint sum(customer in 1..pCustomersN, product in 1..pProductsN, channel in 1..pChannelsN)(vAssignment[customer, product, channel]*pChannelCosts[pChannelsN]) <= pMaxBudget;"
   ]
  },
  {
   "cell_type": "markdown",
   "metadata": {},
   "source": [
    "**Minimalna liczba ofert dla danego produktu**\n",
    "\n",
    "Dla każdego produktu chcemy aby został zaoferowany minimalną liczbę razy."
   ]
  },
  {
   "cell_type": "code",
   "execution_count": 26,
   "metadata": {},
   "outputs": [
    {
     "name": "stdout",
     "output_type": "stream",
     "text": [
      "Variable pCustomersN is undefined\n",
      "Variable pProductsN is undefined\n",
      "Variable pChannelsN is undefined\n",
      "Variable pPropensity is undefined\n",
      "Variable pChannelCosts is undefined\n",
      "Variable pMaxBudget is undefined\n",
      "Variable pProductsMinOffersN is undefined\n"
     ]
    }
   ],
   "source": [
    "\n",
    "%%minizinc\n",
    "%Parametry\n",
    "int: pCustomersN;\n",
    "int: pProductsN;\n",
    "int: pChannelsN;\n",
    "array[1..pCustomersN, 1..pProductsN, 1..pChannelsN] of float: pExpectedReve;\n",
    "array[1..pChannelsN] of float: pChannelCosts;\n",
    "float: pMaxBudget;\n",
    "array[1..pProductsN] of int: pProductsMinOffersN;\n",
    "float: pMinHurdleReve;\n",
    "\n",
    "%Zmienne\n",
    "array[1..pCustomersN, 1..pProductsN, 1..pChannelsN] of var 0..1: vAssignment;\n",
    "\n",
    "%Ograniczenia\n",
    "constraint sum(customer in 1..pCustomersN, product in 1..pProductsN, channel in 1..pChannelsN)(vAssignment[customer, product, channel]*pChannelCosts[pChannelsN]) <= pMaxBudget;\n",
    "\n",
    "constraint forall(product in 1..pProductsN) (\n",
    "    sum(customer in 1..pCustomersN, channel in 1..pChannelsN) (vAssignment[customer, product, channel]) >= pProductsMinOffersN[product]\n",
    ");"
   ]
  },
  {
   "cell_type": "markdown",
   "metadata": {},
   "source": [
    "**Minimalny próg zwrotu z kampanii**\n",
    "\n",
    "Firma chce mieć zabezpieczony minimalny zwrot z kampanii."
   ]
  },
  {
   "cell_type": "code",
   "execution_count": 29,
   "metadata": {},
   "outputs": [
    {
     "name": "stdout",
     "output_type": "stream",
     "text": [
      "Variable pCustomersN is undefined\n",
      "Variable pProductsN is undefined\n",
      "Variable pChannelsN is undefined\n",
      "Variable pExpectedReve is undefined\n",
      "Variable pChannelCosts is undefined\n",
      "Variable pMaxBudget is undefined\n",
      "Variable pProductsMinOffersN is undefined\n",
      "Variable pMinHurdleReve is undefined\n"
     ]
    }
   ],
   "source": [
    "%%minizinc\n",
    "\n",
    "%Parametry\n",
    "int: pCustomersN;\n",
    "int: pProductsN;\n",
    "int: pChannelsN;\n",
    "array[1..pCustomersN, 1..pProductsN, 1..pChannelsN] of float: pExpectedReve;\n",
    "array[1..pChannelsN] of float: pChannelCosts;\n",
    "float: pMaxBudget;\n",
    "array[1..pProductsN] of int: pProductsMinOffersN;\n",
    "float: pMinHurdleReve;\n",
    "\n",
    "%Zmienne\n",
    "array[1..pCustomersN, 1..pProductsN, 1..pChannelsN] of var 0..1: vAssignment;\n",
    "\n",
    "%Ograniczenia\n",
    "constraint sum(customer in 1..pCustomersN, product in 1..pProductsN, channel in 1..pChannelsN)(vAssignment[customer, product, channel]*pChannelCosts[pChannelsN]) <= pMaxBudget;\n",
    "\n",
    "constraint forall(product in 1..pProductsN) (\n",
    "    sum(customer in 1..pCustomersN, channel in 1..pChannelsN) (vAssignment[customer, product, channel]) >= pProductsMinOffersN[product]\n",
    ");\n",
    "\n",
    "constraint sum(customer in 1..pCustomersN, product in 1..pProductsN, channel in 1..pChannelsN)(vAssignment[customer, product, channel]*pExpectedReve[customer, product, channel]) >= \n",
    "           (1+pMinHurdleReve)*sum(customer in 1..pCustomersN, product in 1..pProductsN, channel in 1..pChannelsN)(vAssignment[customer, product, channel]*pChannelCosts[pChannelsN]);"
   ]
  },
  {
   "cell_type": "markdown",
   "metadata": {},
   "source": [
    "#### Funkcja celu\n",
    "\n",
    "Firma chce zmaksymalizować zysk z kampani."
   ]
  },
  {
   "cell_type": "code",
   "execution_count": 3,
   "metadata": {},
   "outputs": [
    {
     "name": "stdout",
     "output_type": "stream",
     "text": [
      "Variable pCustomersN is undefined\n",
      "Variable pProductsN is undefined\n",
      "Variable pChannelsN is undefined\n",
      "Variable pExpectedReve is undefined\n",
      "Variable pChannelCosts is undefined\n",
      "Variable pMaxBudget is undefined\n",
      "Variable pProductsMinOffersN is undefined\n",
      "Variable pMinHurdleReve is undefined\n"
     ]
    }
   ],
   "source": [
    "%%minizinc\n",
    "\n",
    "%Parametry\n",
    "int: pCustomersN;\n",
    "int: pProductsN;\n",
    "int: pChannelsN;\n",
    "array[1..pCustomersN, 1..pProductsN, 1..pChannelsN] of float: pExpectedReve;\n",
    "array[1..pChannelsN] of float: pChannelCosts;\n",
    "float: pMaxBudget;\n",
    "array[1..pProductsN] of int: pProductsMinOffersN;\n",
    "float: pMinHurdleReve;\n",
    "\n",
    "%Zmienne\n",
    "array[1..pCustomersN, 1..pProductsN, 1..pChannelsN] of var 0..1: vAssignment;\n",
    "\n",
    "%Ograniczenia\n",
    "constraint sum(customer in 1..pCustomersN, product in 1..pProductsN, channel in 1..pChannelsN)(vAssignment[customer, product, channel]*pChannelCosts[pChannelsN]) <= pMaxBudget;\n",
    "\n",
    "constraint forall(product in 1..pProductsN) (\n",
    "    sum(customer in 1..pCustomersN, channel in 1..pChannelsN) (vAssignment[customer, product, channel]) >= pProductsMinOffersN[product]\n",
    ");\n",
    "\n",
    "constraint sum(customer in 1..pCustomersN, product in 1..pProductsN, channel in 1..pChannelsN)(vAssignment[customer, product, channel]*pExpectedReve[customer, product, channel]) >= \n",
    "           (1+pMinHurdleReve)*sum(customer in 1..pCustomersN, product in 1..pProductsN, channel in 1..pChannelsN)(vAssignment[customer, product, channel]*pChannelCosts[pChannelsN]);\n",
    "\n",
    "\n",
    "solve maximize sum(customer in 1..pCustomersN, product in 1..pProductsN, channel in 1..pChannelsN)(vAssignment[customer, product, channel]*pExpectedReve[customer, product, channel]);"
   ]
  }
 ],
 "metadata": {
  "interpreter": {
   "hash": "eb70868d14124c03f4395e1ac8ac4ec178126810de6925a3fb4af24601cd5483"
  },
  "kernelspec": {
   "display_name": "Python 3.10.0 64-bit ('venv': venv)",
   "language": "python",
   "name": "python3"
  },
  "language_info": {
   "codemirror_mode": {
    "name": "ipython",
    "version": 3
   },
   "file_extension": ".py",
   "mimetype": "text/x-python",
   "name": "python",
   "nbconvert_exporter": "python",
   "pygments_lexer": "ipython3",
   "version": "3.10.0"
  },
  "orig_nbformat": 4
 },
 "nbformat": 4,
 "nbformat_minor": 2
}
